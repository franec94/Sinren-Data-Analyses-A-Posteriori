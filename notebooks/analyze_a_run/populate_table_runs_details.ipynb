{
 "cells": [
  {
   "cell_type": "code",
   "execution_count": 1,
   "metadata": {},
   "outputs": [],
   "source": [
    "from utils.libs import *"
   ]
  },
  {
   "cell_type": "code",
   "execution_count": 2,
   "metadata": {},
   "outputs": [],
   "source": [
    "# --- Read config file for runnig notebook.\n",
    "\n",
    "conf_file_path = 'conf.txt'\n",
    "conf_data = read_conf_file(conf_file_path)"
   ]
  },
  {
   "cell_type": "code",
   "execution_count": 3,
   "metadata": {},
   "outputs": [],
   "source": [
    "typename = 'QueryConstraints'\n",
    "field_names = \"image;date;timestamp;hidden_features;image_size;status\".split(\";\")\n",
    "QueryConstraints = collections.namedtuple(typename, field_names)"
   ]
  },
  {
   "cell_type": "code",
   "execution_count": 4,
   "metadata": {},
   "outputs": [
    {
     "name": "stdout",
     "output_type": "stream",
     "text": [
      "QueryConstraints(image={'type': <class 'str'>, 'val': ['']}, date={'type': <class 'str'>, 'val': ['']}, timestamp={'type': <class 'str'>, 'val': ['']}, hidden_features={'type': <class 'int'>, 'val': ['']}, image_size={'type': <class 'str'>, 'val': ['']}, status={'type': <class 'str'>, 'val': ['']})\n"
     ]
    }
   ],
   "source": [
    "image = dict(zip(['type', 'val'], [str, list(sorted(\"\".split(\";\")))]))\n",
    "date = dict(zip(['type', 'val'], [str, list(sorted(\"\".split(\";\")))]))\n",
    "timestamp = dict(zip(['type', 'val'], [str, list(sorted(\"\".split(\";\")))]))\n",
    "hidden_features = dict(zip(['type', 'val'], [int, list(sorted(\"\".split(\";\")))]))\n",
    "image_size = dict(zip(['type', 'val'], [str, list(sorted(\"\".split(\";\")))]))\n",
    "status = dict(zip(['type', 'val'], [str, list(sorted(\"\".split(\";\")))]))\n",
    "\n",
    "fields_list = [image, date, timestamp, hidden_features, image_size, status]\n",
    "constraints = QueryConstraints._make(fields_list)\n",
    "\n",
    "pprint(constraints)"
   ]
  },
  {
   "cell_type": "code",
   "execution_count": 5,
   "metadata": {},
   "outputs": [
    {
     "name": "stdout",
     "output_type": "stream",
     "text": [
      "SELECT image,date,timestamp,hidden_features,image_size,status,data_downloaded FROM table_runs_logged;\n"
     ]
    }
   ],
   "source": [
    "# --- Fetch data\n",
    "\n",
    "records_list, result_dict_df, query_str, chained_constraints = fetch_data_by_constraints(\n",
    "    conf_data, constraints, fetch_data_downloaded = False)"
   ]
  },
  {
   "cell_type": "code",
   "execution_count": 6,
   "metadata": {},
   "outputs": [
    {
     "data": {
      "text/html": [
       "<div>\n",
       "<style scoped>\n",
       "    .dataframe tbody tr th:only-of-type {\n",
       "        vertical-align: middle;\n",
       "    }\n",
       "\n",
       "    .dataframe tbody tr th {\n",
       "        vertical-align: top;\n",
       "    }\n",
       "\n",
       "    .dataframe thead th {\n",
       "        text-align: right;\n",
       "    }\n",
       "</style>\n",
       "<table border=\"1\" class=\"dataframe\">\n",
       "  <thead>\n",
       "    <tr style=\"text-align: right;\">\n",
       "      <th></th>\n",
       "      <th>image</th>\n",
       "      <th>date</th>\n",
       "      <th>timestamp</th>\n",
       "      <th>hidden_features</th>\n",
       "      <th>image_size</th>\n",
       "      <th>status</th>\n",
       "      <th>data_downloaded</th>\n",
       "      <th>full_path</th>\n",
       "    </tr>\n",
       "  </thead>\n",
       "  <tbody>\n",
       "    <tr>\n",
       "      <th>0</th>\n",
       "      <td>cameramen</td>\n",
       "      <td>23/10/20</td>\n",
       "      <td>1603410154-248962</td>\n",
       "      <td>64</td>\n",
       "      <td>[512,512]</td>\n",
       "      <td>done</td>\n",
       "      <td>TRUE</td>\n",
       "      <td>C:\\\\Users\\\\Francesco\\\\Documents\\\\tests\\\\siren-...</td>\n",
       "    </tr>\n",
       "    <tr>\n",
       "      <th>1</th>\n",
       "      <td>cameramen</td>\n",
       "      <td>23/10/20</td>\n",
       "      <td>1603421693-497763</td>\n",
       "      <td>64</td>\n",
       "      <td>[512,512]</td>\n",
       "      <td>done</td>\n",
       "      <td>TRUE</td>\n",
       "      <td>C:\\\\Users\\\\Francesco\\\\Documents\\\\tests\\\\siren-...</td>\n",
       "    </tr>\n",
       "    <tr>\n",
       "      <th>2</th>\n",
       "      <td>cameramen</td>\n",
       "      <td>23/10/20</td>\n",
       "      <td>1603478755-305517</td>\n",
       "      <td>75</td>\n",
       "      <td>[256,256]</td>\n",
       "      <td>done</td>\n",
       "      <td>TRUE</td>\n",
       "      <td>C:\\\\Users\\\\Francesco\\\\Documents\\\\tests\\\\siren-...</td>\n",
       "    </tr>\n",
       "    <tr>\n",
       "      <th>3</th>\n",
       "      <td>cameramen</td>\n",
       "      <td>24/10/20</td>\n",
       "      <td>1603557121-338703</td>\n",
       "      <td>55</td>\n",
       "      <td>[256,256]</td>\n",
       "      <td>done</td>\n",
       "      <td>TRUE</td>\n",
       "      <td>C:\\\\Users\\\\Francesco\\\\Documents\\\\tests\\\\siren-...</td>\n",
       "    </tr>\n",
       "    <tr>\n",
       "      <th>4</th>\n",
       "      <td>cameramen</td>\n",
       "      <td>25/10/20</td>\n",
       "      <td>1603583765-067812</td>\n",
       "      <td>55</td>\n",
       "      <td>[256,256]</td>\n",
       "      <td>done</td>\n",
       "      <td>TRUE</td>\n",
       "      <td>C:\\\\Users\\\\Francesco\\\\Documents\\\\tests\\\\siren-...</td>\n",
       "    </tr>\n",
       "  </tbody>\n",
       "</table>\n",
       "</div>"
      ],
      "text/plain": [
       "       image      date          timestamp  hidden_features image_size status  \\\n",
       "0  cameramen  23/10/20  1603410154-248962               64  [512,512]   done   \n",
       "1  cameramen  23/10/20  1603421693-497763               64  [512,512]   done   \n",
       "2  cameramen  23/10/20  1603478755-305517               75  [256,256]   done   \n",
       "3  cameramen  24/10/20  1603557121-338703               55  [256,256]   done   \n",
       "4  cameramen  25/10/20  1603583765-067812               55  [256,256]   done   \n",
       "\n",
       "  data_downloaded                                          full_path  \n",
       "0            TRUE  C:\\\\Users\\\\Francesco\\\\Documents\\\\tests\\\\siren-...  \n",
       "1            TRUE  C:\\\\Users\\\\Francesco\\\\Documents\\\\tests\\\\siren-...  \n",
       "2            TRUE  C:\\\\Users\\\\Francesco\\\\Documents\\\\tests\\\\siren-...  \n",
       "3            TRUE  C:\\\\Users\\\\Francesco\\\\Documents\\\\tests\\\\siren-...  \n",
       "4            TRUE  C:\\\\Users\\\\Francesco\\\\Documents\\\\tests\\\\siren-...  "
      ]
     },
     "execution_count": 6,
     "metadata": {},
     "output_type": "execute_result"
    }
   ],
   "source": [
    "data = list(map(operator.methodcaller('_asdict'), records_list))\n",
    "records_df = pd.DataFrame(data = data)\n",
    "\n",
    "records_df.head(5)"
   ]
  },
  {
   "cell_type": "code",
   "execution_count": 7,
   "metadata": {},
   "outputs": [
    {
     "name": "stdout",
     "output_type": "stream",
     "text": [
      "full path: C:\\\\Users\\\\Francesco\\\\Documents\\\\tests\\\\siren-tests\\\\siren-train-logs\\cameramen\\23-10-2020\\1603410154-248962\\train\\result_comb_train.txt\n",
      "base name: result_comb_train.txt\n"
     ]
    },
    {
     "data": {
      "text/plain": [
       "'C:\\\\\\\\Users\\\\\\\\Francesco\\\\\\\\Documents\\\\\\\\tests\\\\\\\\siren-tests\\\\\\\\siren-train-logs\\\\cameramen\\\\23-10-2020\\\\1603410154-248962\\\\train\\\\train.log'"
      ]
     },
     "execution_count": 7,
     "metadata": {},
     "output_type": "execute_result"
    }
   ],
   "source": [
    "print('full path:', records_df['full_path'].values[0])\n",
    "print('base name:', os.path.basename(records_df['full_path'].values[0]))\n",
    "\n",
    "base_filename = os.path.basename(records_df['full_path'].values[0])\n",
    "val = str(records_df['full_path'].values[0])\n",
    "val.replace(f'{base_filename}', 'train.log')"
   ]
  },
  {
   "cell_type": "code",
   "execution_count": 8,
   "metadata": {},
   "outputs": [],
   "source": [
    "def update_full_path(old_full_path, target_filename = 'train.log'):\n",
    "    base_filename = os.path.basename(old_full_path)\n",
    "    updated_full_path = old_full_path.replace(f'{base_filename}', f'{target_filename}')\n",
    "    return updated_full_path\n",
    "records_df['train_log'] = list(map(update_full_path, records_df['full_path'].values))\n",
    "def update_full_path(old_full_path, target_filename = 'parser_logged.txt'):\n",
    "    base_filename = os.path.basename(old_full_path)\n",
    "    updated_full_path = old_full_path.replace(f'{base_filename}', f'{target_filename}')\n",
    "    return updated_full_path\n",
    "records_df['parser_logged'] = list(map(update_full_path, records_df['full_path'].values))"
   ]
  },
  {
   "cell_type": "code",
   "execution_count": 9,
   "metadata": {},
   "outputs": [
    {
     "data": {
      "text/html": [
       "<div>\n",
       "<style scoped>\n",
       "    .dataframe tbody tr th:only-of-type {\n",
       "        vertical-align: middle;\n",
       "    }\n",
       "\n",
       "    .dataframe tbody tr th {\n",
       "        vertical-align: top;\n",
       "    }\n",
       "\n",
       "    .dataframe thead th {\n",
       "        text-align: right;\n",
       "    }\n",
       "</style>\n",
       "<table border=\"1\" class=\"dataframe\">\n",
       "  <thead>\n",
       "    <tr style=\"text-align: right;\">\n",
       "      <th></th>\n",
       "      <th>image</th>\n",
       "      <th>date</th>\n",
       "      <th>timestamp</th>\n",
       "      <th>hidden_features</th>\n",
       "      <th>image_size</th>\n",
       "      <th>status</th>\n",
       "      <th>data_downloaded</th>\n",
       "      <th>full_path</th>\n",
       "      <th>train_log</th>\n",
       "      <th>parser_logged</th>\n",
       "    </tr>\n",
       "  </thead>\n",
       "  <tbody>\n",
       "    <tr>\n",
       "      <th>0</th>\n",
       "      <td>cameramen</td>\n",
       "      <td>23/10/20</td>\n",
       "      <td>1603410154-248962</td>\n",
       "      <td>64</td>\n",
       "      <td>[512,512]</td>\n",
       "      <td>done</td>\n",
       "      <td>TRUE</td>\n",
       "      <td>C:\\\\Users\\\\Francesco\\\\Documents\\\\tests\\\\siren-...</td>\n",
       "      <td>C:\\\\Users\\\\Francesco\\\\Documents\\\\tests\\\\siren-...</td>\n",
       "      <td>C:\\\\Users\\\\Francesco\\\\Documents\\\\tests\\\\siren-...</td>\n",
       "    </tr>\n",
       "    <tr>\n",
       "      <th>1</th>\n",
       "      <td>cameramen</td>\n",
       "      <td>23/10/20</td>\n",
       "      <td>1603421693-497763</td>\n",
       "      <td>64</td>\n",
       "      <td>[512,512]</td>\n",
       "      <td>done</td>\n",
       "      <td>TRUE</td>\n",
       "      <td>C:\\\\Users\\\\Francesco\\\\Documents\\\\tests\\\\siren-...</td>\n",
       "      <td>C:\\\\Users\\\\Francesco\\\\Documents\\\\tests\\\\siren-...</td>\n",
       "      <td>C:\\\\Users\\\\Francesco\\\\Documents\\\\tests\\\\siren-...</td>\n",
       "    </tr>\n",
       "    <tr>\n",
       "      <th>2</th>\n",
       "      <td>cameramen</td>\n",
       "      <td>23/10/20</td>\n",
       "      <td>1603478755-305517</td>\n",
       "      <td>75</td>\n",
       "      <td>[256,256]</td>\n",
       "      <td>done</td>\n",
       "      <td>TRUE</td>\n",
       "      <td>C:\\\\Users\\\\Francesco\\\\Documents\\\\tests\\\\siren-...</td>\n",
       "      <td>C:\\\\Users\\\\Francesco\\\\Documents\\\\tests\\\\siren-...</td>\n",
       "      <td>C:\\\\Users\\\\Francesco\\\\Documents\\\\tests\\\\siren-...</td>\n",
       "    </tr>\n",
       "    <tr>\n",
       "      <th>3</th>\n",
       "      <td>cameramen</td>\n",
       "      <td>24/10/20</td>\n",
       "      <td>1603557121-338703</td>\n",
       "      <td>55</td>\n",
       "      <td>[256,256]</td>\n",
       "      <td>done</td>\n",
       "      <td>TRUE</td>\n",
       "      <td>C:\\\\Users\\\\Francesco\\\\Documents\\\\tests\\\\siren-...</td>\n",
       "      <td>C:\\\\Users\\\\Francesco\\\\Documents\\\\tests\\\\siren-...</td>\n",
       "      <td>C:\\\\Users\\\\Francesco\\\\Documents\\\\tests\\\\siren-...</td>\n",
       "    </tr>\n",
       "    <tr>\n",
       "      <th>4</th>\n",
       "      <td>cameramen</td>\n",
       "      <td>25/10/20</td>\n",
       "      <td>1603583765-067812</td>\n",
       "      <td>55</td>\n",
       "      <td>[256,256]</td>\n",
       "      <td>done</td>\n",
       "      <td>TRUE</td>\n",
       "      <td>C:\\\\Users\\\\Francesco\\\\Documents\\\\tests\\\\siren-...</td>\n",
       "      <td>C:\\\\Users\\\\Francesco\\\\Documents\\\\tests\\\\siren-...</td>\n",
       "      <td>C:\\\\Users\\\\Francesco\\\\Documents\\\\tests\\\\siren-...</td>\n",
       "    </tr>\n",
       "  </tbody>\n",
       "</table>\n",
       "</div>"
      ],
      "text/plain": [
       "       image      date          timestamp  hidden_features image_size status  \\\n",
       "0  cameramen  23/10/20  1603410154-248962               64  [512,512]   done   \n",
       "1  cameramen  23/10/20  1603421693-497763               64  [512,512]   done   \n",
       "2  cameramen  23/10/20  1603478755-305517               75  [256,256]   done   \n",
       "3  cameramen  24/10/20  1603557121-338703               55  [256,256]   done   \n",
       "4  cameramen  25/10/20  1603583765-067812               55  [256,256]   done   \n",
       "\n",
       "  data_downloaded                                          full_path  \\\n",
       "0            TRUE  C:\\\\Users\\\\Francesco\\\\Documents\\\\tests\\\\siren-...   \n",
       "1            TRUE  C:\\\\Users\\\\Francesco\\\\Documents\\\\tests\\\\siren-...   \n",
       "2            TRUE  C:\\\\Users\\\\Francesco\\\\Documents\\\\tests\\\\siren-...   \n",
       "3            TRUE  C:\\\\Users\\\\Francesco\\\\Documents\\\\tests\\\\siren-...   \n",
       "4            TRUE  C:\\\\Users\\\\Francesco\\\\Documents\\\\tests\\\\siren-...   \n",
       "\n",
       "                                           train_log  \\\n",
       "0  C:\\\\Users\\\\Francesco\\\\Documents\\\\tests\\\\siren-...   \n",
       "1  C:\\\\Users\\\\Francesco\\\\Documents\\\\tests\\\\siren-...   \n",
       "2  C:\\\\Users\\\\Francesco\\\\Documents\\\\tests\\\\siren-...   \n",
       "3  C:\\\\Users\\\\Francesco\\\\Documents\\\\tests\\\\siren-...   \n",
       "4  C:\\\\Users\\\\Francesco\\\\Documents\\\\tests\\\\siren-...   \n",
       "\n",
       "                                       parser_logged  \n",
       "0  C:\\\\Users\\\\Francesco\\\\Documents\\\\tests\\\\siren-...  \n",
       "1  C:\\\\Users\\\\Francesco\\\\Documents\\\\tests\\\\siren-...  \n",
       "2  C:\\\\Users\\\\Francesco\\\\Documents\\\\tests\\\\siren-...  \n",
       "3  C:\\\\Users\\\\Francesco\\\\Documents\\\\tests\\\\siren-...  \n",
       "4  C:\\\\Users\\\\Francesco\\\\Documents\\\\tests\\\\siren-...  "
      ]
     },
     "execution_count": 9,
     "metadata": {},
     "output_type": "execute_result"
    }
   ],
   "source": [
    "records_df.head(5)"
   ]
  },
  {
   "cell_type": "code",
   "execution_count": 10,
   "metadata": {},
   "outputs": [
    {
     "data": {
      "text/plain": [
       "array(['C:\\\\\\\\Users\\\\\\\\Francesco\\\\\\\\Documents\\\\\\\\tests\\\\\\\\siren-tests\\\\\\\\siren-train-logs\\\\cameramen\\\\23-10-2020\\\\1603410154-248962\\\\train\\\\train.log',\n",
       "       'C:\\\\\\\\Users\\\\\\\\Francesco\\\\\\\\Documents\\\\\\\\tests\\\\\\\\siren-tests\\\\\\\\siren-train-logs\\\\cameramen\\\\23-10-2020\\\\1603421693-497763\\\\train\\\\train.log',\n",
       "       'C:\\\\\\\\Users\\\\\\\\Francesco\\\\\\\\Documents\\\\\\\\tests\\\\\\\\siren-tests\\\\\\\\siren-train-logs\\\\cameramen\\\\23-10-2020\\\\1603478755-305517\\\\train\\\\train.log',\n",
       "       'C:\\\\\\\\Users\\\\\\\\Francesco\\\\\\\\Documents\\\\\\\\tests\\\\\\\\siren-tests\\\\\\\\siren-train-logs\\\\cameramen\\\\24-10-2020\\\\1603557121-338703\\\\train\\\\train.log',\n",
       "       'C:\\\\\\\\Users\\\\\\\\Francesco\\\\\\\\Documents\\\\\\\\tests\\\\\\\\siren-tests\\\\\\\\siren-train-logs\\\\cameramen\\\\25-10-2020\\\\1603583765-067812\\\\train\\\\train.log'],\n",
       "      dtype=object)"
      ]
     },
     "execution_count": 10,
     "metadata": {},
     "output_type": "execute_result"
    }
   ],
   "source": [
    "records_df['train_log'].values[0:5]"
   ]
  },
  {
   "cell_type": "code",
   "execution_count": 11,
   "metadata": {},
   "outputs": [
    {
     "data": {
      "text/plain": [
       "array(['C:\\\\\\\\Users\\\\\\\\Francesco\\\\\\\\Documents\\\\\\\\tests\\\\\\\\siren-tests\\\\\\\\siren-train-logs\\\\cameramen\\\\23-10-2020\\\\1603410154-248962\\\\train\\\\parser_logged.txt',\n",
       "       'C:\\\\\\\\Users\\\\\\\\Francesco\\\\\\\\Documents\\\\\\\\tests\\\\\\\\siren-tests\\\\\\\\siren-train-logs\\\\cameramen\\\\23-10-2020\\\\1603421693-497763\\\\train\\\\parser_logged.txt',\n",
       "       'C:\\\\\\\\Users\\\\\\\\Francesco\\\\\\\\Documents\\\\\\\\tests\\\\\\\\siren-tests\\\\\\\\siren-train-logs\\\\cameramen\\\\23-10-2020\\\\1603478755-305517\\\\train\\\\parser_logged.txt',\n",
       "       'C:\\\\\\\\Users\\\\\\\\Francesco\\\\\\\\Documents\\\\\\\\tests\\\\\\\\siren-tests\\\\\\\\siren-train-logs\\\\cameramen\\\\24-10-2020\\\\1603557121-338703\\\\train\\\\parser_logged.txt',\n",
       "       'C:\\\\\\\\Users\\\\\\\\Francesco\\\\\\\\Documents\\\\\\\\tests\\\\\\\\siren-tests\\\\\\\\siren-train-logs\\\\cameramen\\\\25-10-2020\\\\1603583765-067812\\\\train\\\\parser_logged.txt'],\n",
       "      dtype=object)"
      ]
     },
     "execution_count": 11,
     "metadata": {},
     "output_type": "execute_result"
    }
   ],
   "source": [
    "records_df['parser_logged'].values[0:5]"
   ]
  },
  {
   "cell_type": "code",
   "execution_count": 12,
   "metadata": {},
   "outputs": [],
   "source": [
    "original_images_dict = {'cameramen': {'width': 512, 'heigth': 512}}"
   ]
  },
  {
   "cell_type": "code",
   "execution_count": 13,
   "metadata": {},
   "outputs": [
    {
     "name": "stdout",
     "output_type": "stream",
     "text": [
      "--------------------------------------------------\n",
      "File no. 1\n",
      "--------------------------------------------------\n",
      "Failed.\n",
      "--------------------------------------------------\n",
      "File no. 2\n",
      "--------------------------------------------------\n",
      "Failed.\n",
      "--------------------------------------------------\n",
      "File no. 3\n",
      "--------------------------------------------------\n",
      "Failed.\n",
      "--------------------------------------------------\n",
      "File no. 4\n",
      "--------------------------------------------------\n",
      "Success.\n",
      "--------------------------------------------------\n",
      "File no. 5\n",
      "--------------------------------------------------\n",
      "Success.\n",
      "--------------------------------------------------\n",
      "File no. 6\n",
      "--------------------------------------------------\n",
      "Skipped.\n",
      "--------------------------------------------------\n",
      "File no. 7\n",
      "--------------------------------------------------\n",
      "Success.\n",
      "--------------------------------------------------\n",
      "File no. 8\n",
      "--------------------------------------------------\n",
      "Skipped.\n",
      "--------------------------------------------------\n",
      "File no. 9\n",
      "--------------------------------------------------\n",
      "Success.\n",
      "--------------------------------------------------\n",
      "File no. 10\n",
      "--------------------------------------------------\n",
      "Success.\n",
      "--------------------------------------------------\n",
      "File no. 11\n",
      "--------------------------------------------------\n",
      "Success.\n",
      "--------------------------------------------------\n",
      "File no. 12\n",
      "--------------------------------------------------\n",
      "Success.\n",
      "--------------------------------------------------\n",
      "File no. 13\n",
      "--------------------------------------------------\n",
      "Skipped.\n",
      "--------------------------------------------------\n",
      "File no. 14\n",
      "--------------------------------------------------\n",
      "Skipped.\n"
     ]
    }
   ],
   "source": [
    "trd, failed_read = get_info_from_logged_parser(\n",
    "    parser_logged_files = records_df['parser_logged'][:],\n",
    "    train_log_files = records_df['train_log'].values[:],\n",
    "    original_images_dict = original_images_dict,\n",
    "    gpu_mode = True)"
   ]
  },
  {
   "cell_type": "code",
   "execution_count": 14,
   "metadata": {},
   "outputs": [
    {
     "data": {
      "text/plain": [
       "['C:\\\\\\\\Users\\\\\\\\Francesco\\\\\\\\Documents\\\\\\\\tests\\\\\\\\siren-tests\\\\\\\\siren-train-logs\\\\cameramen\\\\23-10-2020\\\\1603410154-248962\\\\train\\\\parser_logged.txt',\n",
       " 'C:\\\\\\\\Users\\\\\\\\Francesco\\\\\\\\Documents\\\\\\\\tests\\\\\\\\siren-tests\\\\\\\\siren-train-logs\\\\cameramen\\\\23-10-2020\\\\1603421693-497763\\\\train\\\\parser_logged.txt',\n",
       " 'C:\\\\\\\\Users\\\\\\\\Francesco\\\\\\\\Documents\\\\\\\\tests\\\\\\\\siren-tests\\\\\\\\siren-train-logs\\\\cameramen\\\\23-10-2020\\\\1603478755-305517\\\\train\\\\parser_logged.txt']"
      ]
     },
     "execution_count": 14,
     "metadata": {},
     "output_type": "execute_result"
    }
   ],
   "source": [
    "failed_read"
   ]
  },
  {
   "cell_type": "code",
   "execution_count": 15,
   "metadata": {},
   "outputs": [],
   "source": [
    "data = trd.get_all_records_processed_for_query_insert()"
   ]
  },
  {
   "cell_type": "code",
   "execution_count": 18,
   "metadata": {},
   "outputs": [
    {
     "name": "stdout",
     "output_type": "stream",
     "text": [
      "some records to be filtered!\n"
     ]
    }
   ],
   "source": [
    "table_name = 'table_runs_details'\n",
    "insert_data_read_from_logs(conf_data, table_name, trd.get_all_records())"
   ]
  },
  {
   "cell_type": "code",
   "execution_count": null,
   "metadata": {},
   "outputs": [],
   "source": []
  }
 ],
 "metadata": {
  "kernelspec": {
   "display_name": "Python 3",
   "language": "python",
   "name": "python3"
  },
  "language_info": {
   "codemirror_mode": {
    "name": "ipython",
    "version": 3
   },
   "file_extension": ".py",
   "mimetype": "text/x-python",
   "name": "python",
   "nbconvert_exporter": "python",
   "pygments_lexer": "ipython3",
   "version": "3.7.6"
  }
 },
 "nbformat": 4,
 "nbformat_minor": 4
}

{
 "cells": [
  {
   "cell_type": "code",
   "execution_count": 1,
   "metadata": {},
   "outputs": [],
   "source": [
    "# --- Import libs for running notebook.\n",
    "\n",
    "from utils.libs import *"
   ]
  },
  {
   "cell_type": "code",
   "execution_count": 2,
   "metadata": {},
   "outputs": [],
   "source": [
    "# --- Read config file for runnig notebook.\n",
    "\n",
    "conf_file_path = 'conf.txt'\n",
    "conf_data = read_conf_file(conf_file_path)"
   ]
  },
  {
   "cell_type": "code",
   "execution_count": 3,
   "metadata": {},
   "outputs": [
    {
     "name": "stdout",
     "output_type": "stream",
     "text": [
      "SELECT image,date,timestamp,hidden_features,image_size,status FROM table_runs_logged WHERE image_size = \"[256,256]\";\n"
     ]
    }
   ],
   "source": [
    "# --- Fetch data about carryed out trainings.\n",
    "records_list = fetch_data_by_status(conf_data, status='*')"
   ]
  },
  {
   "cell_type": "code",
   "execution_count": 4,
   "metadata": {},
   "outputs": [
    {
     "data": {
      "text/html": [
       "<div>\n",
       "<style scoped>\n",
       "    .dataframe tbody tr th:only-of-type {\n",
       "        vertical-align: middle;\n",
       "    }\n",
       "\n",
       "    .dataframe tbody tr th {\n",
       "        vertical-align: top;\n",
       "    }\n",
       "\n",
       "    .dataframe thead th {\n",
       "        text-align: right;\n",
       "    }\n",
       "</style>\n",
       "<table border=\"1\" class=\"dataframe\">\n",
       "  <thead>\n",
       "    <tr style=\"text-align: right;\">\n",
       "      <th></th>\n",
       "      <th>image</th>\n",
       "      <th>date</th>\n",
       "      <th>timestamp</th>\n",
       "      <th>hidden_features</th>\n",
       "      <th>image_size</th>\n",
       "      <th>status</th>\n",
       "      <th>full_path</th>\n",
       "    </tr>\n",
       "  </thead>\n",
       "  <tbody>\n",
       "    <tr>\n",
       "      <th>0</th>\n",
       "      <td>cameramen</td>\n",
       "      <td>23/10/20</td>\n",
       "      <td>1603478755-305517</td>\n",
       "      <td>75</td>\n",
       "      <td>[256,256]</td>\n",
       "      <td>done</td>\n",
       "      <td>C:\\\\Users\\\\Francesco\\\\Documents\\\\tests\\\\siren-...</td>\n",
       "    </tr>\n",
       "    <tr>\n",
       "      <th>1</th>\n",
       "      <td>cameramen</td>\n",
       "      <td>24/10/20</td>\n",
       "      <td>1603557121-338703</td>\n",
       "      <td>55</td>\n",
       "      <td>[256,256]</td>\n",
       "      <td>done</td>\n",
       "      <td>C:\\\\Users\\\\Francesco\\\\Documents\\\\tests\\\\siren-...</td>\n",
       "    </tr>\n",
       "    <tr>\n",
       "      <th>2</th>\n",
       "      <td>cameramen</td>\n",
       "      <td>25/10/20</td>\n",
       "      <td>1603583765-067812</td>\n",
       "      <td>55</td>\n",
       "      <td>[256,256]</td>\n",
       "      <td>done</td>\n",
       "      <td>C:\\\\Users\\\\Francesco\\\\Documents\\\\tests\\\\siren-...</td>\n",
       "    </tr>\n",
       "    <tr>\n",
       "      <th>3</th>\n",
       "      <td>cameramen</td>\n",
       "      <td>26/10/20</td>\n",
       "      <td>1603671438-603947</td>\n",
       "      <td>85</td>\n",
       "      <td>[256,256]</td>\n",
       "      <td>failed</td>\n",
       "      <td>C:\\\\Users\\\\Francesco\\\\Documents\\\\tests\\\\siren-...</td>\n",
       "    </tr>\n",
       "    <tr>\n",
       "      <th>4</th>\n",
       "      <td>cameramen</td>\n",
       "      <td>26/10/20</td>\n",
       "      <td>1603672968-148557</td>\n",
       "      <td>85</td>\n",
       "      <td>[256,256]</td>\n",
       "      <td>done</td>\n",
       "      <td>C:\\\\Users\\\\Francesco\\\\Documents\\\\tests\\\\siren-...</td>\n",
       "    </tr>\n",
       "  </tbody>\n",
       "</table>\n",
       "</div>"
      ],
      "text/plain": [
       "       image      date          timestamp  hidden_features image_size  status  \\\n",
       "0  cameramen  23/10/20  1603478755-305517               75  [256,256]    done   \n",
       "1  cameramen  24/10/20  1603557121-338703               55  [256,256]    done   \n",
       "2  cameramen  25/10/20  1603583765-067812               55  [256,256]    done   \n",
       "3  cameramen  26/10/20  1603671438-603947               85  [256,256]  failed   \n",
       "4  cameramen  26/10/20  1603672968-148557               85  [256,256]    done   \n",
       "\n",
       "                                           full_path  \n",
       "0  C:\\\\Users\\\\Francesco\\\\Documents\\\\tests\\\\siren-...  \n",
       "1  C:\\\\Users\\\\Francesco\\\\Documents\\\\tests\\\\siren-...  \n",
       "2  C:\\\\Users\\\\Francesco\\\\Documents\\\\tests\\\\siren-...  \n",
       "3  C:\\\\Users\\\\Francesco\\\\Documents\\\\tests\\\\siren-...  \n",
       "4  C:\\\\Users\\\\Francesco\\\\Documents\\\\tests\\\\siren-...  "
      ]
     },
     "execution_count": 4,
     "metadata": {},
     "output_type": "execute_result"
    }
   ],
   "source": [
    "data = list(map(operator.methodcaller('_asdict'), records_list))\n",
    "records_df = pd.DataFrame(data = data)\n",
    "\n",
    "records_df.head(5)"
   ]
  },
  {
   "cell_type": "code",
   "execution_count": 5,
   "metadata": {},
   "outputs": [
    {
     "name": "stdout",
     "output_type": "stream",
     "text": [
      "<class 'pandas.core.frame.DataFrame'>\n",
      "RangeIndex: 9 entries, 0 to 8\n",
      "Data columns (total 7 columns):\n",
      " #   Column           Non-Null Count  Dtype \n",
      "---  ------           --------------  ----- \n",
      " 0   image            9 non-null      object\n",
      " 1   date             9 non-null      object\n",
      " 2   timestamp        9 non-null      object\n",
      " 3   hidden_features  9 non-null      int64 \n",
      " 4   image_size       9 non-null      object\n",
      " 5   status           9 non-null      object\n",
      " 6   full_path        9 non-null      object\n",
      "dtypes: int64(1), object(6)\n",
      "memory usage: 632.0+ bytes\n"
     ]
    }
   ],
   "source": [
    "records_df.info()"
   ]
  },
  {
   "cell_type": "code",
   "execution_count": 6,
   "metadata": {},
   "outputs": [
    {
     "data": {
      "text/html": [
       "<div>\n",
       "<style scoped>\n",
       "    .dataframe tbody tr th:only-of-type {\n",
       "        vertical-align: middle;\n",
       "    }\n",
       "\n",
       "    .dataframe tbody tr th {\n",
       "        vertical-align: top;\n",
       "    }\n",
       "\n",
       "    .dataframe thead th {\n",
       "        text-align: right;\n",
       "    }\n",
       "</style>\n",
       "<table border=\"1\" class=\"dataframe\">\n",
       "  <thead>\n",
       "    <tr style=\"text-align: right;\">\n",
       "      <th></th>\n",
       "      <th>image</th>\n",
       "      <th>date</th>\n",
       "      <th>timestamp</th>\n",
       "      <th>hidden_features</th>\n",
       "      <th>image_size</th>\n",
       "      <th>status</th>\n",
       "      <th>full_path</th>\n",
       "    </tr>\n",
       "  </thead>\n",
       "  <tbody>\n",
       "    <tr>\n",
       "      <th>0</th>\n",
       "      <td>cameramen</td>\n",
       "      <td>23/10/20</td>\n",
       "      <td>1603478755-305517</td>\n",
       "      <td>75</td>\n",
       "      <td>[256,256]</td>\n",
       "      <td>done</td>\n",
       "      <td>C:\\\\Users\\\\Francesco\\\\Documents\\\\tests\\\\siren-...</td>\n",
       "    </tr>\n",
       "    <tr>\n",
       "      <th>1</th>\n",
       "      <td>cameramen</td>\n",
       "      <td>24/10/20</td>\n",
       "      <td>1603557121-338703</td>\n",
       "      <td>55</td>\n",
       "      <td>[256,256]</td>\n",
       "      <td>done</td>\n",
       "      <td>C:\\\\Users\\\\Francesco\\\\Documents\\\\tests\\\\siren-...</td>\n",
       "    </tr>\n",
       "    <tr>\n",
       "      <th>2</th>\n",
       "      <td>cameramen</td>\n",
       "      <td>25/10/20</td>\n",
       "      <td>1603583765-067812</td>\n",
       "      <td>55</td>\n",
       "      <td>[256,256]</td>\n",
       "      <td>done</td>\n",
       "      <td>C:\\\\Users\\\\Francesco\\\\Documents\\\\tests\\\\siren-...</td>\n",
       "    </tr>\n",
       "    <tr>\n",
       "      <th>3</th>\n",
       "      <td>cameramen</td>\n",
       "      <td>26/10/20</td>\n",
       "      <td>1603671438-603947</td>\n",
       "      <td>85</td>\n",
       "      <td>[256,256]</td>\n",
       "      <td>failed</td>\n",
       "      <td>C:\\\\Users\\\\Francesco\\\\Documents\\\\tests\\\\siren-...</td>\n",
       "    </tr>\n",
       "    <tr>\n",
       "      <th>4</th>\n",
       "      <td>cameramen</td>\n",
       "      <td>26/10/20</td>\n",
       "      <td>1603672968-148557</td>\n",
       "      <td>85</td>\n",
       "      <td>[256,256]</td>\n",
       "      <td>done</td>\n",
       "      <td>C:\\\\Users\\\\Francesco\\\\Documents\\\\tests\\\\siren-...</td>\n",
       "    </tr>\n",
       "    <tr>\n",
       "      <th>5</th>\n",
       "      <td>cameramen</td>\n",
       "      <td>26/10/20</td>\n",
       "      <td>1603731888-012273</td>\n",
       "      <td>85</td>\n",
       "      <td>[256,256]</td>\n",
       "      <td>doubt</td>\n",
       "      <td>C:\\\\Users\\\\Francesco\\\\Documents\\\\tests\\\\siren-...</td>\n",
       "    </tr>\n",
       "    <tr>\n",
       "      <th>6</th>\n",
       "      <td>cameramen</td>\n",
       "      <td>26/10/20</td>\n",
       "      <td>1603731938-952001</td>\n",
       "      <td>85</td>\n",
       "      <td>[256,256]</td>\n",
       "      <td>done</td>\n",
       "      <td>C:\\\\Users\\\\Francesco\\\\Documents\\\\tests\\\\siren-...</td>\n",
       "    </tr>\n",
       "    <tr>\n",
       "      <th>7</th>\n",
       "      <td>cameramen</td>\n",
       "      <td>27/10/20</td>\n",
       "      <td>1603774067-025589</td>\n",
       "      <td>64</td>\n",
       "      <td>[256,256]</td>\n",
       "      <td>done</td>\n",
       "      <td>C:\\\\Users\\\\Francesco\\\\Documents\\\\tests\\\\siren-...</td>\n",
       "    </tr>\n",
       "    <tr>\n",
       "      <th>8</th>\n",
       "      <td>cameramen</td>\n",
       "      <td>27/10/20</td>\n",
       "      <td>1603816949-617728</td>\n",
       "      <td>64</td>\n",
       "      <td>[256,256]</td>\n",
       "      <td>running</td>\n",
       "      <td>C:\\\\Users\\\\Francesco\\\\Documents\\\\tests\\\\siren-...</td>\n",
       "    </tr>\n",
       "  </tbody>\n",
       "</table>\n",
       "</div>"
      ],
      "text/plain": [
       "       image      date          timestamp  hidden_features image_size  \\\n",
       "0  cameramen  23/10/20  1603478755-305517               75  [256,256]   \n",
       "1  cameramen  24/10/20  1603557121-338703               55  [256,256]   \n",
       "2  cameramen  25/10/20  1603583765-067812               55  [256,256]   \n",
       "3  cameramen  26/10/20  1603671438-603947               85  [256,256]   \n",
       "4  cameramen  26/10/20  1603672968-148557               85  [256,256]   \n",
       "5  cameramen  26/10/20  1603731888-012273               85  [256,256]   \n",
       "6  cameramen  26/10/20  1603731938-952001               85  [256,256]   \n",
       "7  cameramen  27/10/20  1603774067-025589               64  [256,256]   \n",
       "8  cameramen  27/10/20  1603816949-617728               64  [256,256]   \n",
       "\n",
       "    status                                          full_path  \n",
       "0     done  C:\\\\Users\\\\Francesco\\\\Documents\\\\tests\\\\siren-...  \n",
       "1     done  C:\\\\Users\\\\Francesco\\\\Documents\\\\tests\\\\siren-...  \n",
       "2     done  C:\\\\Users\\\\Francesco\\\\Documents\\\\tests\\\\siren-...  \n",
       "3   failed  C:\\\\Users\\\\Francesco\\\\Documents\\\\tests\\\\siren-...  \n",
       "4     done  C:\\\\Users\\\\Francesco\\\\Documents\\\\tests\\\\siren-...  \n",
       "5    doubt  C:\\\\Users\\\\Francesco\\\\Documents\\\\tests\\\\siren-...  \n",
       "6     done  C:\\\\Users\\\\Francesco\\\\Documents\\\\tests\\\\siren-...  \n",
       "7     done  C:\\\\Users\\\\Francesco\\\\Documents\\\\tests\\\\siren-...  \n",
       "8  running  C:\\\\Users\\\\Francesco\\\\Documents\\\\tests\\\\siren-...  "
      ]
     },
     "execution_count": 6,
     "metadata": {},
     "output_type": "execute_result"
    }
   ],
   "source": [
    "records_df"
   ]
  },
  {
   "cell_type": "code",
   "execution_count": 7,
   "metadata": {},
   "outputs": [],
   "source": [
    "typename = 'QueryConstraints'\n",
    "field_names = \"image;date;timestamp;hidden_features;image_size;status\".split(\";\")\n",
    "QueryConstraints = collections.namedtuple(typename, field_names)"
   ]
  },
  {
   "cell_type": "code",
   "execution_count": 8,
   "metadata": {},
   "outputs": [
    {
     "name": "stdout",
     "output_type": "stream",
     "text": [
      "QueryConstraints(image={'type': <class 'str'>, 'val': ['cameramen']}, date=None, timestamp={'type': <class 'str'>, 'val': ['1603557121-338703', '1603671438-603947', '1603774067-025589']}, hidden_features={'type': <class 'int'>, 'val': ['55', '64', '85']}, image_size=None, status={'type': <class 'str'>, 'val': ['done', 'failed']})\n"
     ]
    }
   ],
   "source": [
    "image = dict(zip(['type', 'val'], [str, list(sorted(\"cameramen\".split(\";\")))]))\n",
    "date = None\n",
    "timestamp = dict(zip(['type', 'val'], [str, list(sorted(\"1603557121-338703;1603774067-025589;1603671438-603947\".split(\";\")))]))\n",
    "hidden_features = dict(zip(['type', 'val'], [int, list(sorted(\"55;64;85\".split(\";\")))]))\n",
    "image_size = None\n",
    "status = dict(zip(['type', 'val'], [str, list(sorted(\"done;failed\".split(\";\")))]))\n",
    "\n",
    "fields_list = [image, date, timestamp, hidden_features, image_size, status]\n",
    "constraints = QueryConstraints._make(fields_list)\n",
    "\n",
    "pprint(constraints)"
   ]
  },
  {
   "cell_type": "code",
   "execution_count": 9,
   "metadata": {},
   "outputs": [
    {
     "name": "stdout",
     "output_type": "stream",
     "text": [
      "('image', {'type': <class 'str'>, 'val': ['cameramen']})\n",
      "('timestamp',\n",
      " {'type': <class 'str'>,\n",
      "  'val': ['1603557121-338703', '1603671438-603947', '1603774067-025589']})\n",
      "('hidden_features', {'type': <class 'int'>, 'val': ['55', '64', '85']})\n",
      "('status', {'type': <class 'str'>, 'val': ['done', 'failed']})\n",
      "SELECT image,date,timestamp,hidden_features,image_size,status FROM table_runs_logged WHERE    (image = 'cameramen') AND (  timestamp = '1603557121-338703' OR timestamp = '1603671438-603947'  OR timestamp = '1603774067-025589' )  AND (  hidden_features = 55 OR hidden_features = 64  OR hidden_features = 85 )  AND ( status = 'done' OR status = 'failed' ) ;\n"
     ]
    }
   ],
   "source": [
    "records_list, query_str, chained_constraints = fetch_data_by_constraints(conf_data, constraints)"
   ]
  },
  {
   "cell_type": "code",
   "execution_count": 10,
   "metadata": {},
   "outputs": [
    {
     "data": {
      "text/html": [
       "<div>\n",
       "<style scoped>\n",
       "    .dataframe tbody tr th:only-of-type {\n",
       "        vertical-align: middle;\n",
       "    }\n",
       "\n",
       "    .dataframe tbody tr th {\n",
       "        vertical-align: top;\n",
       "    }\n",
       "\n",
       "    .dataframe thead th {\n",
       "        text-align: right;\n",
       "    }\n",
       "</style>\n",
       "<table border=\"1\" class=\"dataframe\">\n",
       "  <thead>\n",
       "    <tr style=\"text-align: right;\">\n",
       "      <th></th>\n",
       "      <th>image</th>\n",
       "      <th>date</th>\n",
       "      <th>timestamp</th>\n",
       "      <th>hidden_features</th>\n",
       "      <th>image_size</th>\n",
       "      <th>status</th>\n",
       "      <th>full_path</th>\n",
       "    </tr>\n",
       "  </thead>\n",
       "  <tbody>\n",
       "    <tr>\n",
       "      <th>0</th>\n",
       "      <td>cameramen</td>\n",
       "      <td>24/10/20</td>\n",
       "      <td>1603557121-338703</td>\n",
       "      <td>55</td>\n",
       "      <td>[256,256]</td>\n",
       "      <td>done</td>\n",
       "      <td>C:\\\\Users\\\\Francesco\\\\Documents\\\\tests\\\\siren-...</td>\n",
       "    </tr>\n",
       "    <tr>\n",
       "      <th>1</th>\n",
       "      <td>cameramen</td>\n",
       "      <td>26/10/20</td>\n",
       "      <td>1603671438-603947</td>\n",
       "      <td>85</td>\n",
       "      <td>[256,256]</td>\n",
       "      <td>failed</td>\n",
       "      <td>C:\\\\Users\\\\Francesco\\\\Documents\\\\tests\\\\siren-...</td>\n",
       "    </tr>\n",
       "    <tr>\n",
       "      <th>2</th>\n",
       "      <td>cameramen</td>\n",
       "      <td>27/10/20</td>\n",
       "      <td>1603774067-025589</td>\n",
       "      <td>64</td>\n",
       "      <td>[256,256]</td>\n",
       "      <td>done</td>\n",
       "      <td>C:\\\\Users\\\\Francesco\\\\Documents\\\\tests\\\\siren-...</td>\n",
       "    </tr>\n",
       "  </tbody>\n",
       "</table>\n",
       "</div>"
      ],
      "text/plain": [
       "       image      date          timestamp  hidden_features image_size  status  \\\n",
       "0  cameramen  24/10/20  1603557121-338703               55  [256,256]    done   \n",
       "1  cameramen  26/10/20  1603671438-603947               85  [256,256]  failed   \n",
       "2  cameramen  27/10/20  1603774067-025589               64  [256,256]    done   \n",
       "\n",
       "                                           full_path  \n",
       "0  C:\\\\Users\\\\Francesco\\\\Documents\\\\tests\\\\siren-...  \n",
       "1  C:\\\\Users\\\\Francesco\\\\Documents\\\\tests\\\\siren-...  \n",
       "2  C:\\\\Users\\\\Francesco\\\\Documents\\\\tests\\\\siren-...  "
      ]
     },
     "execution_count": 10,
     "metadata": {},
     "output_type": "execute_result"
    }
   ],
   "source": [
    "data = list(map(operator.methodcaller('_asdict'), records_list))\n",
    "records_df = pd.DataFrame(data = data)\n",
    "\n",
    "records_df.head(5)"
   ]
  },
  {
   "cell_type": "code",
   "execution_count": 11,
   "metadata": {},
   "outputs": [
    {
     "data": {
      "text/plain": [
       "\"SELECT image,date,timestamp,hidden_features,image_size,status FROM table_runs_logged WHERE    (image = 'cameramen') AND (  timestamp = '1603557121-338703' OR timestamp = '1603671438-603947'  OR timestamp = '1603774067-025589' )  AND (  hidden_features = 55 OR hidden_features = 64  OR hidden_features = 85 )  AND ( status = 'done' OR status = 'failed' ) ;\""
      ]
     },
     "execution_count": 11,
     "metadata": {},
     "output_type": "execute_result"
    }
   ],
   "source": [
    "query_str"
   ]
  },
  {
   "cell_type": "code",
   "execution_count": 12,
   "metadata": {},
   "outputs": [
    {
     "data": {
      "text/plain": [
       "\"   (image = 'cameramen') AND (  timestamp = '1603557121-338703' OR timestamp = '1603671438-603947'  OR timestamp = '1603774067-025589' )  AND (  hidden_features = 55 OR hidden_features = 64  OR hidden_features = 85 )  AND ( status = 'done' OR status = 'failed' ) \""
      ]
     },
     "execution_count": 12,
     "metadata": {},
     "output_type": "execute_result"
    }
   ],
   "source": [
    "chained_constraints"
   ]
  }
 ],
 "metadata": {
  "kernelspec": {
   "display_name": "Python 3",
   "language": "python",
   "name": "python3"
  },
  "language_info": {
   "codemirror_mode": {
    "name": "ipython",
    "version": 3
   },
   "file_extension": ".py",
   "mimetype": "text/x-python",
   "name": "python",
   "nbconvert_exporter": "python",
   "pygments_lexer": "ipython3",
   "version": "3.7.6"
  }
 },
 "nbformat": 4,
 "nbformat_minor": 4
}

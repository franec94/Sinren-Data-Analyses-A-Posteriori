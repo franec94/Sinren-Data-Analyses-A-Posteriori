{
 "cells": [
  {
   "cell_type": "code",
   "execution_count": 1,
   "metadata": {},
   "outputs": [],
   "source": [
    "from utils.libs import *"
   ]
  },
  {
   "cell_type": "code",
   "execution_count": 2,
   "metadata": {},
   "outputs": [],
   "source": [
    "# --- Read config file for runnig notebook.\n",
    "\n",
    "conf_file_path = 'conf.txt'\n",
    "conf_data = read_conf_file(conf_file_path)"
   ]
  },
  {
   "cell_type": "code",
   "execution_count": 3,
   "metadata": {},
   "outputs": [],
   "source": [
    "typename = 'QueryConstraints'\n",
    "field_names = \"image;date;timestamp;hidden_features;image_size;status,data_downloaded\".split(\";\")\n",
    "fields_type = 'str,str,str,int,str,str,str'.split(',')\n",
    "QueryConstraints = collections.namedtuple(typename, field_names)\n",
    "\n",
    "def map_func(field_type):\n",
    "    return dict(zip(['type', 'val'], [eval(field_type), None]))\n",
    "fields_list = list(map(map_func, fields_type))\n",
    "\n",
    "constraints = QueryConstraints._make(fields_list)"
   ]
  },
  {
   "cell_type": "code",
   "execution_count": 4,
   "metadata": {},
   "outputs": [
    {
     "ename": "TypeError",
     "evalue": "Expected 6 arguments, got 7",
     "output_type": "error",
     "traceback": [
      "\u001b[1;31m---------------------------------------------------------------------------\u001b[0m",
      "\u001b[1;31mTypeError\u001b[0m                                 Traceback (most recent call last)",
      "\u001b[1;32m<ipython-input-4-4a6bfd7fb0a0>\u001b[0m in \u001b[0;36m<module>\u001b[1;34m\u001b[0m\n\u001b[0;32m      8\u001b[0m \u001b[1;33m\u001b[0m\u001b[0m\n\u001b[0;32m      9\u001b[0m \u001b[0mfields_list\u001b[0m \u001b[1;33m=\u001b[0m \u001b[1;33m[\u001b[0m\u001b[0mimage\u001b[0m\u001b[1;33m,\u001b[0m \u001b[0mdate\u001b[0m\u001b[1;33m,\u001b[0m \u001b[0mtimestamp\u001b[0m\u001b[1;33m,\u001b[0m \u001b[0mhidden_features\u001b[0m\u001b[1;33m,\u001b[0m \u001b[0mimage_size\u001b[0m\u001b[1;33m,\u001b[0m \u001b[0mstatus\u001b[0m\u001b[1;33m,\u001b[0m \u001b[0mdata_downloaded\u001b[0m\u001b[1;33m]\u001b[0m\u001b[1;33m\u001b[0m\u001b[1;33m\u001b[0m\u001b[0m\n\u001b[1;32m---> 10\u001b[1;33m \u001b[0mconstraints\u001b[0m \u001b[1;33m=\u001b[0m \u001b[0mQueryConstraints\u001b[0m\u001b[1;33m.\u001b[0m\u001b[0m_make\u001b[0m\u001b[1;33m(\u001b[0m\u001b[0mfields_list\u001b[0m\u001b[1;33m)\u001b[0m\u001b[1;33m\u001b[0m\u001b[1;33m\u001b[0m\u001b[0m\n\u001b[0m\u001b[0;32m     11\u001b[0m \u001b[1;33m\u001b[0m\u001b[0m\n\u001b[0;32m     12\u001b[0m \u001b[0mpprint\u001b[0m\u001b[1;33m(\u001b[0m\u001b[0mconstraints\u001b[0m\u001b[1;33m)\u001b[0m\u001b[1;33m\u001b[0m\u001b[1;33m\u001b[0m\u001b[0m\n",
      "\u001b[1;32m~\\anaconda3\\lib\\collections\\__init__.py\u001b[0m in \u001b[0;36m_make\u001b[1;34m(cls, iterable)\u001b[0m\n\u001b[0;32m    405\u001b[0m         \u001b[0mresult\u001b[0m \u001b[1;33m=\u001b[0m \u001b[0mtuple_new\u001b[0m\u001b[1;33m(\u001b[0m\u001b[0mcls\u001b[0m\u001b[1;33m,\u001b[0m \u001b[0miterable\u001b[0m\u001b[1;33m)\u001b[0m\u001b[1;33m\u001b[0m\u001b[1;33m\u001b[0m\u001b[0m\n\u001b[0;32m    406\u001b[0m         \u001b[1;32mif\u001b[0m \u001b[0m_len\u001b[0m\u001b[1;33m(\u001b[0m\u001b[0mresult\u001b[0m\u001b[1;33m)\u001b[0m \u001b[1;33m!=\u001b[0m \u001b[0mnum_fields\u001b[0m\u001b[1;33m:\u001b[0m\u001b[1;33m\u001b[0m\u001b[1;33m\u001b[0m\u001b[0m\n\u001b[1;32m--> 407\u001b[1;33m             \u001b[1;32mraise\u001b[0m \u001b[0mTypeError\u001b[0m\u001b[1;33m(\u001b[0m\u001b[1;34mf'Expected {num_fields} arguments, got {len(result)}'\u001b[0m\u001b[1;33m)\u001b[0m\u001b[1;33m\u001b[0m\u001b[1;33m\u001b[0m\u001b[0m\n\u001b[0m\u001b[0;32m    408\u001b[0m         \u001b[1;32mreturn\u001b[0m \u001b[0mresult\u001b[0m\u001b[1;33m\u001b[0m\u001b[1;33m\u001b[0m\u001b[0m\n\u001b[0;32m    409\u001b[0m \u001b[1;33m\u001b[0m\u001b[0m\n",
      "\u001b[1;31mTypeError\u001b[0m: Expected 6 arguments, got 7"
     ]
    }
   ],
   "source": [
    "image = dict(zip(['type', 'val'], [str, list(sorted(\"\".split(\";\")))]))\n",
    "date = dict(zip(['type', 'val'], [str, list(sorted(\"\".split(\";\")))]))\n",
    "timestamp = dict(zip(['type', 'val'], [str, list(sorted(\"\".split(\";\")))]))\n",
    "hidden_features = dict(zip(['type', 'val'], [int, list(sorted(\"\".split(\";\")))]))\n",
    "image_size = dict(zip(['type', 'val'], [str, list(sorted(\"\".split(\";\")))]))\n",
    "status = dict(zip(['type', 'val'], [str, list(sorted(\"done\".split(\";\")))]))\n",
    "data_downloaded = dict(zip(['type', 'val'], [str, list(sorted(\"TRUE\".split(\";\")))]))\n",
    "\n",
    "fields_list = [image, date, timestamp, hidden_features, image_size, status, data_downloaded]\n",
    "constraints = QueryConstraints._make(fields_list)\n",
    "\n",
    "pprint(constraints)"
   ]
  },
  {
   "cell_type": "code",
   "execution_count": null,
   "metadata": {},
   "outputs": [],
   "source": [
    "# --- Fetch data\n",
    "\n",
    "records_list, result_dict_df, query_str, chained_constraints = fetch_data_by_constraints(\n",
    "    conf_data, constraints, fetch_data_downloaded = False)"
   ]
  },
  {
   "cell_type": "code",
   "execution_count": null,
   "metadata": {},
   "outputs": [],
   "source": [
    "data = list(map(operator.methodcaller('_asdict'), records_list))\n",
    "records_df = pd.DataFrame(data = data)\n",
    "\n",
    "records_df.head(5)"
   ]
  },
  {
   "cell_type": "code",
   "execution_count": null,
   "metadata": {},
   "outputs": [],
   "source": [
    "print('full path:', records_df['full_path'].values[0])\n",
    "print('base name:', os.path.basename(records_df['full_path'].values[0]))\n",
    "\n",
    "base_filename = os.path.basename(records_df['full_path'].values[0])\n",
    "val = str(records_df['full_path'].values[0])\n",
    "val.replace(f'{base_filename}', 'train.log')"
   ]
  },
  {
   "cell_type": "code",
   "execution_count": null,
   "metadata": {},
   "outputs": [],
   "source": [
    "def update_full_path(old_full_path, target_filename = 'train.log'):\n",
    "    base_filename = os.path.basename(old_full_path)\n",
    "    updated_full_path = old_full_path.replace(f'{base_filename}', f'{target_filename}')\n",
    "    return updated_full_path\n",
    "records_df['train_log'] = list(map(update_full_path, records_df['full_path'].values))\n",
    "def update_full_path(old_full_path, target_filename = 'parser_logged.txt'):\n",
    "    base_filename = os.path.basename(old_full_path)\n",
    "    updated_full_path = old_full_path.replace(f'{base_filename}', f'{target_filename}')\n",
    "    return updated_full_path\n",
    "records_df['parser_logged'] = list(map(update_full_path, records_df['full_path'].values))"
   ]
  },
  {
   "cell_type": "code",
   "execution_count": null,
   "metadata": {},
   "outputs": [],
   "source": [
    "records_df.head(5)"
   ]
  },
  {
   "cell_type": "code",
   "execution_count": null,
   "metadata": {},
   "outputs": [],
   "source": [
    "records_df['train_log'].values[0:5]"
   ]
  },
  {
   "cell_type": "code",
   "execution_count": null,
   "metadata": {},
   "outputs": [],
   "source": [
    "records_df['parser_logged'].values[0:5]"
   ]
  },
  {
   "cell_type": "code",
   "execution_count": null,
   "metadata": {},
   "outputs": [],
   "source": [
    "original_images_dict = {'cameramen': {'width': 512, 'heigth': 512}}"
   ]
  },
  {
   "cell_type": "code",
   "execution_count": null,
   "metadata": {},
   "outputs": [],
   "source": [
    "trd, failed_read = get_info_from_logged_parser(\n",
    "    parser_logged_files = records_df['parser_logged'][:],\n",
    "    train_log_files = records_df['train_log'].values[:],\n",
    "    original_images_dict = original_images_dict,\n",
    "    gpu_mode = True)"
   ]
  },
  {
   "cell_type": "code",
   "execution_count": null,
   "metadata": {},
   "outputs": [],
   "source": [
    "failed_read"
   ]
  },
  {
   "cell_type": "code",
   "execution_count": null,
   "metadata": {},
   "outputs": [],
   "source": [
    "data = trd.get_all_records_processed_for_query_insert()"
   ]
  },
  {
   "cell_type": "code",
   "execution_count": null,
   "metadata": {},
   "outputs": [],
   "source": [
    "table_name = 'table_runs_details'\n",
    "insert_data_read_from_logs(conf_data, table_name, trd.get_all_records())"
   ]
  },
  {
   "cell_type": "code",
   "execution_count": null,
   "metadata": {},
   "outputs": [],
   "source": []
  }
 ],
 "metadata": {
  "kernelspec": {
   "display_name": "Python 3",
   "language": "python",
   "name": "python3"
  },
  "language_info": {
   "codemirror_mode": {
    "name": "ipython",
    "version": 3
   },
   "file_extension": ".py",
   "mimetype": "text/x-python",
   "name": "python",
   "nbconvert_exporter": "python",
   "pygments_lexer": "ipython3",
   "version": "3.7.6"
  }
 },
 "nbformat": 4,
 "nbformat_minor": 4
}

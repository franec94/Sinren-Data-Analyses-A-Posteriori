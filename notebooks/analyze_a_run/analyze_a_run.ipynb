{
 "cells": [
  {
   "cell_type": "markdown",
   "metadata": {},
   "source": [
    "# Analysis of Siren based trained models vs JPEG\n",
    "\n",
    "- enable dark mode jupiter:\n",
    "    - jt -t monokai -f fira -fs 10 -nf ptsans -nfs 11 -N -kl -cursw 2 -cursc r -cellw 95% -T\n",
    "- disable set theme:\n",
    "    - jt -r"
   ]
  },
  {
   "cell_type": "markdown",
   "metadata": {},
   "source": [
    "### Fetch Libs, data"
   ]
  },
  {
   "cell_type": "code",
   "execution_count": null,
   "metadata": {},
   "outputs": [],
   "source": [
    "# --- Import libs for running notebook.\n",
    "\n",
    "from utils.libs import *"
   ]
  },
  {
   "cell_type": "code",
   "execution_count": null,
   "metadata": {},
   "outputs": [],
   "source": [
    "# --- Read config file for runnig notebook.\n",
    "\n",
    "conf_file_path = 'conf.txt'\n",
    "conf_data = read_conf_file(conf_file_path)\n",
    "\n",
    "# pprint(conf_data)"
   ]
  },
  {
   "cell_type": "code",
   "execution_count": null,
   "metadata": {},
   "outputs": [],
   "source": [
    "# --- Fetch data about carryed out trainings.\n",
    "train_df, _, records_list = fetch_data(conf_data)"
   ]
  },
  {
   "cell_type": "code",
   "execution_count": null,
   "metadata": {},
   "outputs": [],
   "source": [
    "# np.unique(pd.DataFrame(data = list(map(operator.methodcaller('_asdict'), records_list)))['image_size'].values)\n",
    "if records_list is not None:\n",
    "    records_df = pd.DataFrame(data = list(map(operator.methodcaller('_asdict'), records_list)))\n",
    "    print(records_df.info())\n",
    "    print(records_df.sort_values(by = ['hidden_features']).head(5))\n",
    "    pass"
   ]
  },
  {
   "cell_type": "code",
   "execution_count": null,
   "metadata": {},
   "outputs": [],
   "source": [
    "train_df.head(5)"
   ]
  },
  {
   "cell_type": "code",
   "execution_count": null,
   "metadata": {},
   "outputs": [],
   "source": [
    "train_df.info()"
   ]
  },
  {
   "cell_type": "code",
   "execution_count": null,
   "metadata": {},
   "outputs": [],
   "source": [
    "train_df.describe()"
   ]
  },
  {
   "cell_type": "markdown",
   "metadata": {},
   "source": [
    "### Calculate Jpge"
   ]
  },
  {
   "cell_type": "code",
   "execution_count": null,
   "metadata": {},
   "outputs": [],
   "source": [
    "# --- Load target image.\n",
    "im = load_target_image(image_file_path = None)\n",
    "print('Image size:', im.size)\n",
    "im"
   ]
  },
  {
   "cell_type": "code",
   "execution_count": null,
   "metadata": {},
   "outputs": [],
   "source": [
    "crop_size = conf_data['cropped_image']['crop_size']\n",
    "if isinstance(crop_size, str):\n",
    "    crop_size = eval(crop_size)\n",
    "elif isinstance(crop_size, int):\n",
    "    crop_size = (crop_size, crop_size)\n",
    "    pass\n",
    "# type(crop_size[0])"
   ]
  },
  {
   "cell_type": "code",
   "execution_count": null,
   "metadata": {},
   "outputs": [],
   "source": [
    "if conf_data['cropped_image']['flag'] is True:\n",
    "    im_cropped = get_cropped_by_center_image(im, target = crop_size)\n",
    "    pass\n",
    "else:\n",
    "    im_cropped = im\n",
    "print('Image size:', im_cropped.size)\n",
    "im_cropped"
   ]
  },
  {
   "cell_type": "code",
   "execution_count": null,
   "metadata": {},
   "outputs": [],
   "source": [
    "# --- Array of qualities to be tested in compression.\n",
    "qualities_arr = np.arange(20, 95+1, dtype = np.int)"
   ]
  },
  {
   "cell_type": "code",
   "execution_count": null,
   "metadata": {},
   "outputs": [],
   "source": [
    "# --- Run several trials for JPEG compression.\n",
    "\n",
    "cropped_file_size_bits = None\n",
    "\n",
    "# im_cropped = im\n",
    "# im_cropped = Image.fromarray(skimage.data.camera())\n",
    "with BytesIO() as f:\n",
    "    im_cropped.save(f, format='PNG')\n",
    "    cropped_file_size_bits = f.getbuffer().nbytes * 8\n",
    "    pass\n",
    "\n",
    "result_tuples, failure_qualities = \\\n",
    "  calculate_several_jpeg_compression(im_cropped, cropped_file_size_bits, qualities_arr)"
   ]
  },
  {
   "cell_type": "code",
   "execution_count": null,
   "metadata": {},
   "outputs": [],
   "source": [
    "# data = list(map(lambda xx: xx._asdict(), result_tuples))\n",
    "data = list(map(operator.methodcaller('_asdict'), result_tuples))\n",
    "result_jpeg_df = pd.DataFrame(data = data)\n",
    "result_jpeg_df.head(5)"
   ]
  },
  {
   "cell_type": "markdown",
   "metadata": {},
   "source": [
    "### Show graphics."
   ]
  },
  {
   "cell_type": "code",
   "execution_count": null,
   "metadata": {},
   "outputs": [],
   "source": [
    "# sns.pairplot(results_history_df)\n",
    "with warnings.catch_warnings():\n",
    "    warnings.simplefilter('ignore')\n",
    "    try:\n",
    "        g = sns.PairGrid(result_jpeg_df.drop(['width', 'heigth'], axis = 1), diag_sharey=False)\n",
    "        g.map_upper(sns.scatterplot, s=15) # \n",
    "        g.map_lower(sns.kdeplot)\n",
    "        g.map_diag(sns.kdeplot, lw=2)\n",
    "        # plt.savefig(f\"{images_conf.df_jpeg_scatterplot}\")\n",
    "    except Exception as err:\n",
    "        print(str(err))\n",
    "        pass\n",
    "    pass"
   ]
  },
  {
   "cell_type": "code",
   "execution_count": null,
   "metadata": {},
   "outputs": [],
   "source": [
    "train_df['bpp'] = train_df['#params'].values * 32 / (im_cropped.size[0] * im_cropped.size[1])"
   ]
  },
  {
   "cell_type": "code",
   "execution_count": null,
   "metadata": {},
   "outputs": [],
   "source": [
    "compare_compressions(compression_1_df=train_df, compression_2_df=result_jpeg_df)"
   ]
  },
  {
   "cell_type": "code",
   "execution_count": null,
   "metadata": {},
   "outputs": [],
   "source": [
    "result_jpeg_df.columns, train_df.columns"
   ]
  },
  {
   "cell_type": "code",
   "execution_count": null,
   "metadata": {},
   "outputs": [],
   "source": [
    "train_df['compression'] = list(map(lambda hf: f'siren-{hf}', train_df['hf'].values.astype(dtype = np.int)))"
   ]
  },
  {
   "cell_type": "code",
   "execution_count": null,
   "metadata": {},
   "outputs": [],
   "source": [
    "result_jpeg_df['compression'] = ['jpeg'] * result_jpeg_df.shape[0]\n",
    "# train_df['compression'] = ['siren'] * train_df.shape[0]\n",
    "train_df['file_size_bits'] = train_df['#params'].values * 32\n",
    "train_df['CR'] = cropped_file_size_bits / (train_df['#params'].values * 32)"
   ]
  },
  {
   "cell_type": "code",
   "execution_count": null,
   "metadata": {},
   "outputs": [],
   "source": [
    "result_jpeg_df.columns, train_df.columns"
   ]
  },
  {
   "cell_type": "code",
   "execution_count": null,
   "metadata": {},
   "outputs": [],
   "source": [
    "train_df_columns_for_merge = \"psnr,ssim,CR,bpp,file_size_bits,compression\".split(\",\")\n",
    "result_jpeg_df_columns_for_merge = \"psnr,ssim,CR,bpp,file_size_bits,compression\".split(\",\")\n",
    "\n",
    "data_frames_list = [\n",
    "    train_df[train_df_columns_for_merge],\n",
    "    result_jpeg_df[result_jpeg_df_columns_for_merge],\n",
    "]\n",
    "merged_df = pd.concat(data_frames_list, names = \"psnr,ssim,CR,bpp,file_size_bits,compression\".split(\",\"))"
   ]
  },
  {
   "cell_type": "code",
   "execution_count": null,
   "metadata": {},
   "outputs": [],
   "source": [
    "g = sns.PairGrid(merged_df, hue=\"compression\")\n",
    "g.map_diag(plt.hist)\n",
    "# g.map_offdiag(sns.scatterplot, marker='x')\n",
    "g.map_upper(sns.scatterplot, marker='x', s=15) \n",
    "g.map_lower(sns.kdeplot)\n",
    "g.add_legend()\n",
    "# g.savefig(\"scatter_plot_dataframes_merged.png\")\n",
    "plt.show()"
   ]
  },
  {
   "cell_type": "code",
   "execution_count": null,
   "metadata": {},
   "outputs": [],
   "source": [
    "x = 'bpp'\n",
    "x_vars = \"bpp,file_size_bits\".split(\",\")\n",
    "y_vars = \"psnr,ssim,CR\".split(\",\")[0:1]\n",
    "y = \"psnr\"\n",
    "hue = \"compression\"\n",
    "\n",
    "fig, ax = plt.subplots(1, len(y_vars[0:1]), figsize = (10, 10))\n",
    "# fig.suptitle(f\"{x} vs. others\")\n",
    "\n",
    "chart = sns.scatterplot(x=f\"{x}\", y=f\"{y}\", data=merged_df, ax=ax, hue='compression', marker='x')\n",
    "ax.set_title(f'{y} vs. {x}')\n",
    "# chart.set_xticklabels(chart.get_xticklabels(), rotation=45, horizontalalignment='right')\n",
    "\n",
    "plt.show()"
   ]
  },
  {
   "cell_type": "code",
   "execution_count": null,
   "metadata": {},
   "outputs": [],
   "source": [
    "x = 'bpp'\n",
    "x_vars = \"bpp,file_size_bits\".split(\",\")\n",
    "y_vars = \"psnr,ssim,CR\".split(\",\")[0:1]\n",
    "y = \"ssim\"\n",
    "hue = \"compression\"\n",
    "\n",
    "fig, ax = plt.subplots(1, len(y_vars[0:1]), figsize = (10, 10))\n",
    "# fig.suptitle(f\"{x} vs. others\")\n",
    "\n",
    "chart = sns.scatterplot(x=f\"{x}\", y=f\"{y}\", data=merged_df, ax=ax, hue='compression', marker='x')\n",
    "ax.set_title(f'{y} vs. {x}')\n",
    "# chart.set_xticklabels(chart.get_xticklabels(), rotation=45, horizontalalignment='right')\n",
    "\n",
    "plt.show()"
   ]
  },
  {
   "cell_type": "code",
   "execution_count": null,
   "metadata": {},
   "outputs": [],
   "source": [
    "x = 'bpp'\n",
    "x_vars = \"bpp,file_size_bits\".split(\",\")\n",
    "y_vars = \"psnr,ssim,CR\".split(\",\")[0:1]\n",
    "y = \"CR\"\n",
    "hue = \"compression\"\n",
    "\n",
    "fig, ax = plt.subplots(1, len(y_vars[0:1]), figsize = (10, 10))\n",
    "# fig.suptitle(f\"{x} vs. others\")\n",
    "\n",
    "sns.scatterplot(x=f\"{x}\", y=f\"{y}\", data=merged_df, ax=ax, hue='compression', marker='x')\n",
    "ax.set_title(f'{y} vs. {x}')\n",
    "# chart.set_xticklabels(chart.get_xticklabels(), rotation=45, horizontalalignment='right')\n",
    "\n",
    "plt.show()"
   ]
  },
  {
   "cell_type": "code",
   "execution_count": null,
   "metadata": {},
   "outputs": [],
   "source": [
    "x = 'bpp'\n",
    "x_vars = \"bpp,file_size_bits\".split(\",\")\n",
    "y_vars = \"psnr,ssim,CR\".split(\",\")\n",
    "hue = \"compression\"\n",
    "\n",
    "fig, axes = plt.subplots(1, len(y_vars), figsize = (20, 5))\n",
    "fig.suptitle(f\"{x} vs. others\")\n",
    "\n",
    "for ax, y in zip(axes, y_vars):\n",
    "    chart = sns.scatterplot(x=f\"{x}\", y=f\"{y}\", data=merged_df, ax=ax, hue='compression', marker='x')\n",
    "    ax.set_title(f'{y} vs. {x}')\n",
    "    chart.set_xticklabels(chart.get_xticklabels(), rotation=45, horizontalalignment='right')\n",
    "    pass\n",
    "plt.show()"
   ]
  },
  {
   "cell_type": "code",
   "execution_count": null,
   "metadata": {},
   "outputs": [],
   "source": [
    "x = 'compression'\n",
    "\n",
    "fig, axes = plt.subplots(1, len(y_vars), figsize = (20, 5))\n",
    "fig.suptitle(f\"{x} vs. others\")\n",
    "\n",
    "for ax, y in zip(axes, y_vars):\n",
    "    chart = sns.boxplot(x=f\"{x}\", y=f\"{y}\", data=merged_df, ax=ax)\n",
    "    ax.set_title(f'{y} vs. {x}')\n",
    "    chart.set_xticklabels(chart.get_xticklabels(), rotation=45, horizontalalignment='right')\n",
    "    pass\n",
    "plt.show()"
   ]
  },
  {
   "cell_type": "code",
   "execution_count": null,
   "metadata": {},
   "outputs": [],
   "source": [
    "x_vars = \"bpp,file_size_bits\".split(\",\")\n",
    "y_vars = \"psnr,ssim,CR\".split(\",\")\n",
    "hue = \"compression\"\n",
    "\n",
    "sns.boxplot(x=\"compression\", y=\"psnr\", data=merged_df)\n",
    "\n",
    "plt.show()"
   ]
  },
  {
   "cell_type": "code",
   "execution_count": null,
   "metadata": {},
   "outputs": [],
   "source": [
    "x_vars = \"bpp,file_size_bits\".split(\",\")\n",
    "y_vars = \"psnr,ssim,CR\".split(\",\")\n",
    "hue = \"compression\"\n",
    "\n",
    "sns.boxplot(x=\"compression\", y=\"ssim\", data=merged_df)\n",
    "\n",
    "plt.show()"
   ]
  },
  {
   "cell_type": "code",
   "execution_count": null,
   "metadata": {},
   "outputs": [],
   "source": [
    "x_vars = \"bpp,file_size_bits\".split(\",\")\n",
    "y_vars = \"psnr,ssim,CR\".split(\",\")\n",
    "hue = \"compression\"\n",
    "\n",
    "sns.boxplot(x=\"compression\", y=\"CR\", data=merged_df)\n",
    "\n",
    "plt.show()"
   ]
  },
  {
   "cell_type": "code",
   "execution_count": null,
   "metadata": {},
   "outputs": [],
   "source": [
    "x_vars = \"bpp,file_size_bits\".split(\",\")\n",
    "y_vars = \"psnr,ssim,CR\".split(\",\")\n",
    "hue = \"compression\"\n",
    "\n",
    "g = sns.PairGrid(merged_df, x_vars=x_vars, y_vars=y_vars, hue=hue)\n",
    "g.map(sns.scatterplot, marker='x')\n",
    "g.add_legend()\n",
    "\n",
    "# g.savefig(\"compare_compressions_metrices.png\")\n",
    "\n",
    "plt.show()"
   ]
  },
  {
   "cell_type": "code",
   "execution_count": null,
   "metadata": {},
   "outputs": [],
   "source": [
    "x = 'file_size_bits'\n",
    "x_vars = \"bpp,file_size_bits\".split(\",\")\n",
    "y_vars = \"psnr,ssim,CR\".split(\",\")\n",
    "hue = \"compression\"\n",
    "\n",
    "fig.suptitle(f\"{x} vs. others\")\n",
    "\n",
    "for ax, y in zip(axes, y_vars):\n",
    "    chart = sns.scatterplot(x=f\"{x}\", y=f\"{y}\", data=merged_df, ax=ax, hue='compression')\n",
    "    ax.set_title(f'{y} vs. {x}')\n",
    "    chart.set_xticklabels(chart.get_xticklabels(), rotation=45, horizontalalignment='right')\n",
    "    pass\n",
    "plt.show()"
   ]
  },
  {
   "cell_type": "code",
   "execution_count": null,
   "metadata": {},
   "outputs": [],
   "source": [
    "markers =  ([\"x\"] * (len(set(merged_df[\"compression\"].values)) - 1)) + [\"o\"]"
   ]
  },
  {
   "cell_type": "code",
   "execution_count": null,
   "metadata": {},
   "outputs": [],
   "source": [
    "# sns.__version__"
   ]
  },
  {
   "cell_type": "code",
   "execution_count": null,
   "metadata": {},
   "outputs": [],
   "source": [
    "# ?sns.jointplot"
   ]
  },
  {
   "cell_type": "code",
   "execution_count": null,
   "metadata": {},
   "outputs": [],
   "source": [
    "# sns.jointplot(data=merged_df, x=\"bpp\", y=\"psnr\", hue=\"compression\")"
   ]
  },
  {
   "cell_type": "code",
   "execution_count": null,
   "metadata": {},
   "outputs": [],
   "source": [
    "with warnings.catch_warnings():\n",
    "    warnings.simplefilter('ignore')\n",
    "    g = (sns.jointplot(\"file_size_bits\", \"psnr\",\n",
    "            kind=\"reg\",\n",
    "            data=merged_df,\n",
    "            color=\"b\",\n",
    "            # annot_kws=dict(stat=\"r\"),\n",
    "            stat_func=scipy.stats.kendalltau,)\n",
    "        .plot_joint(sns.kdeplot, zorder=0, n_levels=6)\n",
    "        .plot_joint(sns.regplot, color=\"b\"))\n",
    "    g.plot_marginals(sns.rugplot, color=\"r\", height=-.15, clip_on=False)\n",
    "    g.ax_marg_x.set_xscale('log')\n",
    "    g.ax_marg_y.set_yscale('log')\n",
    "    pass"
   ]
  },
  {
   "cell_type": "code",
   "execution_count": null,
   "metadata": {},
   "outputs": [],
   "source": [
    "with warnings.catch_warnings():\n",
    "    warnings.simplefilter('ignore')\n",
    "    g = (sns.jointplot(\"bpp\", \"psnr\",\n",
    "        kind=\"reg\",\n",
    "        data=merged_df, color=\"b\", stat_func=scipy.stats.kendalltau,)\n",
    "        .plot_joint(sns.kdeplot, zorder=0, n_levels=6)\n",
    "        .plot_joint(sns.regplot, color=\"b\"))\n",
    "    g.plot_marginals(sns.rugplot, color=\"r\", height=-.15, clip_on=False)\n",
    "    g.ax_marg_x.set_xscale('log')\n",
    "    g.ax_marg_y.set_yscale('log')\n",
    "    pass"
   ]
  },
  {
   "cell_type": "code",
   "execution_count": null,
   "metadata": {},
   "outputs": [],
   "source": [
    "with warnings.catch_warnings():\n",
    "    warnings.simplefilter('ignore')\n",
    "    g = (sns.jointplot(\"file_size_bits\", \"ssim\",\n",
    "        kind=\"reg\",\n",
    "        data=merged_df, color=\"b\", stat_func=scipy.stats.kendalltau,)\n",
    "        .plot_joint(sns.kdeplot, zorder=0, n_levels=6)\n",
    "        .plot_joint(sns.regplot, color=\"b\"))\n",
    "    g.plot_marginals(sns.rugplot, color=\"r\", height=-.15, clip_on=False)\n",
    "    g.ax_marg_x.set_xscale('log')\n",
    "    g.ax_marg_y.set_yscale('log')\n",
    "    pass"
   ]
  },
  {
   "cell_type": "code",
   "execution_count": null,
   "metadata": {},
   "outputs": [],
   "source": [
    "with warnings.catch_warnings():\n",
    "    warnings.simplefilter('ignore')\n",
    "    g = (sns.jointplot(\"bpp\", \"ssim\",\n",
    "        kind=\"reg\",\n",
    "        data=merged_df, color=\"b\", stat_func=scipy.stats.kendalltau,)\n",
    "        .plot_joint(sns.kdeplot, zorder=0, n_levels=6)\n",
    "        .plot_joint(sns.regplot, color=\"b\"))\n",
    "    g.plot_marginals(sns.rugplot, color=\"r\", height=-.15, clip_on=False)\n",
    "    g.ax_marg_x.set_xscale('log')\n",
    "    g.ax_marg_y.set_yscale('log')\n",
    "    pass"
   ]
  },
  {
   "cell_type": "code",
   "execution_count": null,
   "metadata": {},
   "outputs": [],
   "source": [
    "with warnings.catch_warnings():\n",
    "    warnings.simplefilter('ignore')\n",
    "    g = (sns.jointplot(\"file_size_bits\", \"CR\",\n",
    "        kind=\"reg\",\n",
    "        data=merged_df, color=\"b\", stat_func=scipy.stats.kendalltau,)\n",
    "        .plot_joint(sns.kdeplot, zorder=0, n_levels=6)\n",
    "        .plot_joint(sns.regplot, color=\"b\"))\n",
    "    g.plot_marginals(sns.rugplot, color=\"r\", height=-.15, clip_on=False)\n",
    "    g.ax_marg_x.set_xscale('log')\n",
    "    g.ax_marg_y.set_yscale('log')\n",
    "    pass"
   ]
  },
  {
   "cell_type": "code",
   "execution_count": null,
   "metadata": {},
   "outputs": [],
   "source": [
    "with warnings.catch_warnings():\n",
    "    warnings.simplefilter('ignore')\n",
    "    g = (sns.jointplot(\"bpp\", \"CR\",\n",
    "        kind=\"reg\",\n",
    "        data=merged_df, color=\"b\", stat_func=scipy.stats.kendalltau,)\n",
    "        .plot_joint(sns.kdeplot, zorder=0, n_levels=6)\n",
    "        .plot_joint(sns.regplot, color=\"b\"))\n",
    "    g.plot_marginals(sns.rugplot, color=\"r\", height=-.15, clip_on=False)\n",
    "    g.ax_marg_x.set_xscale('log')\n",
    "    g.ax_marg_y.set_yscale('log')\n",
    "    pass"
   ]
  },
  {
   "cell_type": "code",
   "execution_count": null,
   "metadata": {},
   "outputs": [],
   "source": [
    "# Plot sepal width as a function of sepal_length across days\n",
    "g = sns.lmplot(\n",
    "    data=merged_df,\n",
    "    x=\"bpp\", y=\"psnr\", hue=\"compression\",\n",
    "    height=5,\n",
    "    palette=\"Set1\", markers=markers\n",
    ").fig.subplots_adjust(wspace=.02)"
   ]
  },
  {
   "cell_type": "code",
   "execution_count": null,
   "metadata": {},
   "outputs": [],
   "source": [
    "# Plot sepal width as a function of sepal_length across days\n",
    "g = sns.lmplot(\n",
    "    data=merged_df,\n",
    "    x=\"file_size_bits\", y=\"psnr\", hue=\"compression\",\n",
    "    height=5,\n",
    "    palette=\"Set1\", markers=markers).fig.subplots_adjust(wspace=.02)\n",
    "\n",
    "# Plot sepal width as a function of sepal_length across days\n",
    "g = sns.lmplot(\n",
    "    data=merged_df,\n",
    "    x=\"file_size_bits\", y=\"ssim\", hue=\"compression\",\n",
    "    height=5,\n",
    "    palette=\"Set1\", markers=markers).fig.subplots_adjust(wspace=.02)\n",
    "plt.show()\n",
    "\n",
    "# Plot sepal width as a function of sepal_length across days\n",
    "g = sns.lmplot(\n",
    "    data=merged_df,\n",
    "    x=\"file_size_bits\", y=\"CR\", hue=\"compression\",\n",
    "    height=5,\n",
    "    palette=\"Set1\", markers=markers).fig.subplots_adjust(wspace=.02)\n",
    "plt.show()"
   ]
  },
  {
   "cell_type": "code",
   "execution_count": null,
   "metadata": {},
   "outputs": [],
   "source": [
    "# Plot sepal width as a function of sepal_length across days\n",
    "g = sns.lmplot(\n",
    "    data=merged_df,\n",
    "    x=\"bpp\", y=\"psnr\", hue=\"compression\",\n",
    "    height=5,\n",
    "    palette=\"Set1\", markers=markers).fig.subplots_adjust(wspace=.02)\n",
    "\n",
    "# Plot sepal width as a function of sepal_length across days\n",
    "g = sns.lmplot(\n",
    "    data=merged_df,\n",
    "    x=\"bpp\", y=\"ssim\", hue=\"compression\",\n",
    "    height=5,\n",
    "    palette=\"Set1\", markers=markers).fig.subplots_adjust(wspace=.02)\n",
    "plt.show()\n",
    "\n",
    "# Plot sepal width as a function of sepal_length across days\n",
    "g = sns.lmplot(\n",
    "    data=merged_df,\n",
    "    x=\"bpp\", y=\"CR\", hue=\"compression\",\n",
    "    height=5,\n",
    "    palette=\"Set1\", markers=markers).fig.subplots_adjust(wspace=.02)\n",
    "plt.show()"
   ]
  },
  {
   "cell_type": "code",
   "execution_count": null,
   "metadata": {},
   "outputs": [],
   "source": [
    "g = sns.lmplot(x=\"bpp\", y=\"psnr\", col=\"compression\", data=merged_df, palette=\"Set1\").fig.subplots_adjust(wspace=.02)"
   ]
  },
  {
   "cell_type": "code",
   "execution_count": null,
   "metadata": {},
   "outputs": [],
   "source": [
    "# Draw a pointplot to show pulse as a function of three categorical factors\n",
    "g = sns.catplot(x=\"bpp\", y=\"psnr\", col=\"compression\",\n",
    "                capsize=.2, palette=\"YlGnBu_d\", height=6, aspect=.75,\n",
    "                kind=\"point\", data=merged_df)\n",
    "g.despine(left=True)\n",
    "plt.show()"
   ]
  },
  {
   "cell_type": "code",
   "execution_count": null,
   "metadata": {},
   "outputs": [],
   "source": [
    "# Draw a pointplot to show pulse as a function of three categorical factors\n",
    "g = sns.catplot(x=\"bpp\", y=\"ssim\", col=\"compression\",\n",
    "                capsize=.2, palette=\"YlGnBu_d\", height=6, aspect=.75,\n",
    "                kind=\"point\", data=merged_df)\n",
    "g.despine(left=True)\n",
    "plt.show()"
   ]
  },
  {
   "cell_type": "code",
   "execution_count": null,
   "metadata": {},
   "outputs": [],
   "source": [
    "# Draw a pointplot to show pulse as a function of three categorical factors\n",
    "g = sns.catplot(x=\"bpp\", y=\"CR\", col=\"compression\",\n",
    "                capsize=.2, palette=\"YlGnBu_d\", height=6, aspect=.75,\n",
    "                kind=\"point\", data=merged_df)\n",
    "g.despine(left=True)\n",
    "plt.show()"
   ]
  },
  {
   "cell_type": "markdown",
   "metadata": {},
   "source": [
    "### References:\n",
    "---\n",
    "#### Standard Libs:\n",
    "  - [Lib/statistics.py](https://docs.python.org/3/library/statistics.html)\n",
    "---\n",
    "#### Seaborn:\n",
    "  - [seaborn.jointplot](http://seaborn.pydata.org/generated/seaborn.jointplot.html?highlight=reg)\n",
    "---\n",
    "#### Drawing from data:\n",
    "  - [drawingfromdata](https://www.drawingfromdata.com/)\n",
    "  - [HOW TO ROTATE AXIS LABELS IN SEABORN AND MATPLOTLIB](https://www.drawingfromdata.com/how-to-rotate-axis-labels-in-seaborn-and-matplotlib)"
   ]
  },
  {
   "cell_type": "code",
   "execution_count": null,
   "metadata": {},
   "outputs": [],
   "source": []
  }
 ],
 "metadata": {
  "kernelspec": {
   "display_name": "Python [conda env:root] *",
   "language": "python",
   "name": "conda-root-py"
  },
  "language_info": {
   "codemirror_mode": {
    "name": "ipython",
    "version": 3
   },
   "file_extension": ".py",
   "mimetype": "text/x-python",
   "name": "python",
   "nbconvert_exporter": "python",
   "pygments_lexer": "ipython3",
   "version": "3.7.6"
  }
 },
 "nbformat": 4,
 "nbformat_minor": 4
}
